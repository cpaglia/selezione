{
 "cells": [
  {
   "cell_type": "markdown",
   "metadata": {},
   "source": [
    "## Struttura di selezione: il costrutto if\n",
    "\n",
    "Un'istruzione if esegue del codice in base al valore di una condizione: se la condizione ha valore True esegue il blocco di codice indentato altrimenti il blocco viene saltato."
   ]
  },
  {
   "cell_type": "code",
   "execution_count": null,
   "metadata": {},
   "outputs": [],
   "source": [
    "if credito_telefonico < 5:\n",
    "    credito_teletonico += 10\n",
    "    conto_bancario -= 10"
   ]
  },
  {
   "cell_type": "markdown",
   "metadata": {},
   "source": [
    "Un'istruzione if inizia con la parola chiave if seguita dalla condizione che deve essere controllata, in questo caso credito_telefonico < 5 e poi i due punti. \n",
    "\n",
    "**La condizione deve essere un'espressione booleana con valore True oppure False**.\n",
    "\n",
    "Dopo questa riga c'è un blocco di codice indentato che verrà eseguito solo se la condizione ha valore True. Qui abbiamo due linee: la prima incrementa la variabile credito_telefonico, la seconda decrementa la variabile conto_bancario. Le due linee saranno eseguite solo se la condizione è True (cioè se la variabile credito_telefonico ha un valore inferiore a 5). Se la condizione è False, il blocco di codice sarà semplicemente saltato.\n",
    "\n",
    "**Tutte le volte che ci sono i due punti, è obbligatorio indentare il blocco successivo di codice**\n",
    "\n",
    "## If, Elif, Else\n",
    "Oltre ad if, esistono altre due dichiarazioni opzionali\n",
    "\n",
    "* if: Un'istruzione if deve sempre iniziare con una dichiarazione if che contiene la prima condizione da controllare. Se la condizione ha valore True, Python esegue il relativo blocco di codice indentato altrimenti salta questo blocco e prosegue con il codice seguente.\n",
    "\n",
    "* elif: elif è l'abbreviazione di \"else if.\" Una dichiarazione elif clause è usata per controllare una condizione aggiuntiva se le condizioni nelle dichiarazioni precedenti erano uguali a False. Ci possono essere blocchi elif multipli per gestire situazioni differenti.\n",
    "\n",
    "* else: Alla fine può esserci una dichiarazione else che, se c'è, va inserita alla fine. Questa dichiarazione NON ha una condizione associata. Il codice nel blocco else viene eseguito se tutte le condizioni precedenti erano False.\n",
    "\n"
   ]
  },
  {
   "cell_type": "code",
   "execution_count": null,
   "metadata": {},
   "outputs": [],
   "source": [
    "\n",
    "if stagione == 'primavera':\n",
    "\tprint('temperatura tiepida')\n",
    "elif stagione == 'estate':\n",
    "\tprint('temperatura calda')\n",
    "elif stagione == 'autunno':\n",
    "\tprint('temperatura fredda')\n",
    "elif stagione == 'inverno':\n",
    "\tprint('temperatura freddissima')\n",
    "else:\n",
    "\tprint('stagione non riconosciuta')"
   ]
  },
  {
   "cell_type": "markdown",
   "metadata": {},
   "source": [
    "**In Python NON esiste la struttura switch**\n",
    "### Esercizi"
   ]
  },
  {
   "cell_type": "code",
   "execution_count": 1,
   "metadata": {},
   "outputs": [
    {
     "name": "stdout",
     "output_type": "stream",
     "text": [
      "Non hai vinto nulla\n"
     ]
    }
   ],
   "source": [
    "'''\n",
    "Scrivere un'istruzione if che stampa il premio vinto dall'utente in base al valore della variabile intera punti.\n",
    "\n",
    "Punti\t\tPremio\n",
    "1-50\t\tconiglio di legno\n",
    "51-150\t\tnessun premio\n",
    "151-180\t\tpinguino\n",
    "181-200\t\tcavallo\n",
    "\n",
    "Il risultato deve essere una stringa contenente il messaggio: \"Congratulazioni! Hai vinto un [nome_premio]\". Se non c'è nessun premio, il messaggio dovrebbe essere \"Non hai vinto nulla\".\n",
    "'''\n",
    "punti = 100\n",
    "if punti >= 1 and punti <= 50:\n",
    "    print('Congratulazioni! Hai vinto un coniglio di legno')    \n",
    "elif punti >= 151 and punti <= 180:\n",
    "    print('Congratulazioni! Hai vinto un pinguino')\n",
    "elif  punti >=181 and punti <= 200:\n",
    "    print('Congratulazioni! Hai vinto un cavallo')\n",
    "else:\n",
    "    print('Non hai vinto nulla')\n"
   ]
  },
  {
   "cell_type": "markdown",
   "metadata": {},
   "source": [
    "    \n",
    "## Ricapitoliamo\n",
    "\n",
    "### If\n",
    "L'istruzione `if` viene utilizzata per eseguire un blocco di codice se una condizione specifica è vera. È la prima condizione che viene valutata e, se è vera, il blocco di codice associato viene eseguito. Se la condizione è falsa, il controllo passa alla successiva istruzione `elif` o `else`.\n",
    "\n",
    "Esempio:\n",
    "```python\n",
    "if punti >= 1 and punti <= 50:\n",
    "    print('Congratulazioni! Hai vinto un coniglio di legno')\n",
    "```\n",
    "\n",
    "### Elif\n",
    "L'istruzione `elif` (abbreviazione di \"else if\") viene utilizzata per controllare condizioni aggiuntive se la condizione precedente era falsa. Puoi avere più blocchi `elif` per gestire diverse condizioni. Se una delle condizioni `elif` è vera, il blocco di codice associato viene eseguito e il resto delle condizioni non viene valutato.\n",
    "\n",
    "Esempio:\n",
    "```python\n",
    "elif punti >= 151 and punti <= 180:\n",
    "    print('Congratulazioni! Hai vinto un pinguino')\n",
    "```\n",
    "\n",
    "### Else\n",
    "L'istruzione `else` viene utilizzata per eseguire un blocco di codice se tutte le condizioni precedenti (`if` e `elif`) sono false. Non ha una condizione associata.\n",
    "\n",
    "Esempio:\n",
    "```python\n",
    "else:\n",
    "    print('Non hai vinto nulla')\n",
    "```\n",
    "\n",
    "### Quando usare if o elif\n",
    "- Usa `if` per la prima condizione da valutare.\n",
    "- Usa `elif` per condizioni aggiuntive che devono essere valutate solo se le condizioni precedenti erano false.\n",
    "- Usa `else` per gestire tutti i casi non coperti dalle condizioni `if` e `elif`.\n",
    "\n",
    "In sintesi, `if` viene utilizzato per la prima condizione, `elif` per condizioni aggiuntive e `else` per il caso predefinito quando tutte le altre condizioni sono false."
   ]
  },
  {
   "cell_type": "markdown",
   "metadata": {},
   "source": []
  },
  {
   "cell_type": "code",
   "execution_count": null,
   "metadata": {},
   "outputs": [],
   "source": [
    "'''\n",
    "Codifica un gioco in cui l'utente deve indovinare un numero. \n",
    "Chiedi all'utente il numero e memorizzalo nella variabile risposta.\n",
    "Il numero da indovinare va memorizzato nella variabile numero\n",
    "(NON VA CHIESTO ALL'UTENTE).\n",
    "Dopo aver confrontato i valori delle due variabili informa \n",
    "l'utente se  il numero inserito è maggiore o minore del numero da indovinare.\n",
    "'''"
   ]
  },
  {
   "cell_type": "code",
   "execution_count": null,
   "metadata": {},
   "outputs": [],
   "source": [
    "'''\n",
    "Scrivi un programma che richieda all'utente di inserire un anno \n",
    "e verifichi se è un anno bisestile. Un anno è bisestile se:\n",
    "    È divisibile per 4 ma non per 100, oppure\n",
    "    È divisibile per 400.\n",
    "'''"
   ]
  },
  {
   "cell_type": "code",
   "execution_count": null,
   "metadata": {},
   "outputs": [],
   "source": [
    "'''\n",
    "Scrivi un programma che chieda all'utente di inserire un numero intero\n",
    "e verifichi se è pari o dispari. Nel caso in cui il numero sia pari, \n",
    "deve visualizzare il quadrato del numero, altrimenti il cubo del numero.\n",
    "Il programma deve produrre tutti gli output in un'unica riga.\n",
    "'''\n"
   ]
  },
  {
   "cell_type": "code",
   "execution_count": null,
   "metadata": {},
   "outputs": [],
   "source": [
    "'''\n",
    "Scrivi un programma che chieda all'utente \n",
    "il punteggio di un esame (compreso tra 0 e 100) \n",
    "e assegni un voto seguendo la seguente griglia:\n",
    "\n",
    "    90-100: \"Ottimo\"\n",
    "    70-89: \"Buono\"\n",
    "    50-69: \"Sufficiente\"\n",
    "    Meno di 50: \"Insufficiente\" \n",
    "'''"
   ]
  }
 ],
 "metadata": {
  "kernelspec": {
   "display_name": "Python 3",
   "language": "python",
   "name": "python3"
  },
  "language_info": {
   "codemirror_mode": {
    "name": "ipython",
    "version": 3
   },
   "file_extension": ".py",
   "mimetype": "text/x-python",
   "name": "python",
   "nbconvert_exporter": "python",
   "pygments_lexer": "ipython3",
   "version": "3.10.8"
  }
 },
 "nbformat": 4,
 "nbformat_minor": 2
}
